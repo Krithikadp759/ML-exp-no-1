{
 "cells": [
  {
   "cell_type": "code",
   "execution_count": 1,
   "id": "48057362-8bf4-4419-957a-d09c45fe2b4e",
   "metadata": {},
   "outputs": [],
   "source": [
    "import numpy as np\n",
    "import pandas as pd\n",
    "import matplotlib.pyplot as plt"
   ]
  },
  {
   "cell_type": "code",
   "execution_count": 2,
   "id": "f378a878-062f-470d-bcc8-d0d98d919f72",
   "metadata": {},
   "outputs": [],
   "source": [
    "file_path = \"House Prices.csv\" \n",
    "tips = pd.read_csv(file_path)"
   ]
  },
  {
   "cell_type": "code",
   "execution_count": 3,
   "id": "f0f7f5f9-be78-4d1d-8c24-48fbc5cd2b97",
   "metadata": {},
   "outputs": [],
   "source": [
    "X = tips[\"House Size\"].values\n",
    "y = tips[\"Price\"].values"
   ]
  },
  {
   "cell_type": "code",
   "execution_count": 4,
   "id": "663d4a4f-1fa6-4a67-a964-01c088a660f2",
   "metadata": {},
   "outputs": [],
   "source": [
    "def locally_weighted_regression(x_query, X, y, tau):\n",
    "    m = len(X)\n",
    "    weights = np.exp(-((X - x_query) ** 2) / (2 * tau ** 2))\n",
    "    X_b = np.c_[np.ones(m), X] \n",
    "    W = np.diag(weights)\n",
    "    theta = np.linalg.pinv(X_b.T @ W @ X_b) @ (X_b.T @ W @ y)\n",
    "    x_query_b = np.array([1, x_query])\n",
    "    return x_query_b @ theta"
   ]
  },
  {
   "cell_type": "code",
   "execution_count": 5,
   "id": "3aaf5fde-2ad1-4a21-8ec6-a545a820a2ef",
   "metadata": {},
   "outputs": [
    {
     "name": "stdout",
     "output_type": "stream",
     "text": [
      "Predicted Price for a house size of 1600 sq.ft: 412297.16\n"
     ]
    }
   ],
   "source": [
    "tau = 300\n",
    "x_query = 1600\n",
    "predicted_tip = locally_weighted_regression(x_query, X, y, tau)\n",
    "print(f\"Predicted Price for a house size of 1600 sq.ft: {predicted_tip:.2f}\")"
   ]
  },
  {
   "cell_type": "code",
   "execution_count": null,
   "id": "7d346f58-9544-4ac2-9667-0494ea99b9dc",
   "metadata": {},
   "outputs": [],
   "source": [
    "X_range = np.linspace(X.min(), X.max(), 100)\n",
    "y_pred = np.array([locally_weighted_regression(x, X, y, tau) for x in X_range])\n",
    "plt.scatter(X, y, color='red', alpha=0.5, label=\"Actual Data\")\n",
    "plt.plot(X_range, y_pred, color='blue', label=\"Locally Weighted Regression\")\n",
    "plt.scatter([x_query], [predicted_tip], color='green', marker='o', label=\"Prediction(1600sq.ft)\")\n",
    "plt.xlabel(\"House size(sq.ft)\")\n",
    "plt.ylabel(\"Price ($)\")\n",
    "plt.legend()\n",
    "plt.title(\"Locally Weighted Regression on House price Dataset\")\n",
    "plt.show()"
   ]
  },
  {
   "cell_type": "code",
   "execution_count": null,
   "id": "b4b0159a-44ec-4095-b772-c1654a8619bf",
   "metadata": {},
   "outputs": [],
   "source": [
    "tau = 200 \n",
    "x_query = 1600\n",
    "predicted_tip = locally_weighted_regression(x_query, X, y, tau)\n",
    "print(f\"Predicted Price for a house size of 1600 sq.ft: {predicted_tip:.2f}\")"
   ]
  },
  {
   "cell_type": "code",
   "execution_count": null,
   "id": "2a6ded57-665a-479c-91a5-19de6ad89ac6",
   "metadata": {},
   "outputs": [],
   "source": []
  }
 ],
 "metadata": {
  "kernelspec": {
   "display_name": "Python 3 (ipykernel)",
   "language": "python",
   "name": "python3"
  },
  "language_info": {
   "codemirror_mode": {
    "name": "ipython",
    "version": 3
   },
   "file_extension": ".py",
   "mimetype": "text/x-python",
   "name": "python",
   "nbconvert_exporter": "python",
   "pygments_lexer": "ipython3",
   "version": "3.12.7"
  }
 },
 "nbformat": 4,
 "nbformat_minor": 5
}
